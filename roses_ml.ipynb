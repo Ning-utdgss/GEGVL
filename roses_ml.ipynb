{
  "nbformat": 4,
  "nbformat_minor": 5,
  "metadata": {
    "kernelspec": {
      "display_name": "Python 3",
      "language": "python",
      "name": "python3"
    },
    "language_info": {
      "codemirror_mode": {
        "name": "ipython",
        "version": 3
      },
      "file_extension": ".py",
      "mimetype": "text/x-python",
      "name": "python",
      "nbconvert_exporter": "python",
      "pygments_lexer": "ipython3",
      "version": "3.8.11"
    },
    "colab": {
      "name": "roses_ml.ipynb",
      "provenance": [],
      "include_colab_link": true
    }
  },
  "cells": [
    {
      "cell_type": "markdown",
      "metadata": {
        "id": "view-in-github",
        "colab_type": "text"
      },
      "source": [
        "<a href=\"https://colab.research.google.com/github/Ning-utdgss/GEGVL/blob/main/roses_ml.ipynb\" target=\"_parent\"><img src=\"https://colab.research.google.com/assets/colab-badge.svg\" alt=\"Open In Colab\"/></a>"
      ]
    },
    {
      "cell_type": "markdown",
      "metadata": {
        "id": "8b873147"
      },
      "source": [
        "![roses header](https://github.com/fdannemanndugick/roses2021/raw/main/header.png)"
      ],
      "id": "8b873147"
    },
    {
      "cell_type": "markdown",
      "metadata": {
        "id": "b39ba314"
      },
      "source": [
        "# ROSES Unit 9 - Machine Learning\n",
        "\n",
        "[Omkar Ranadive](https://omkar-ranadive.github.io/)\n",
        "\n",
        "Applied Scientist,\n",
        "Alchera Labs\n",
        "\n",
        "<hr>"
      ],
      "id": "b39ba314"
    },
    {
      "cell_type": "markdown",
      "metadata": {
        "id": "456f10fd"
      },
      "source": [
        "## Activity 1 - Introduction to PyTorch "
      ],
      "id": "456f10fd"
    },
    {
      "cell_type": "markdown",
      "metadata": {
        "id": "5a43e1d2"
      },
      "source": [
        "PyTorch is one of the most widely used frameworks for building Machine Learning models. In this first activity, we will get familiarized with the basics of PyTorch. "
      ],
      "id": "5a43e1d2"
    },
    {
      "cell_type": "code",
      "metadata": {
        "id": "52ec6b34"
      },
      "source": [
        "import torch \n",
        "import torch.nn.functional as F\n",
        "import torch.nn as nn \n",
        "import numpy as np \n",
        "import matplotlib.pyplot as plt \n",
        "import pandas as pd\n",
        "from urllib.request import urlopen \n",
        "import pickle "
      ],
      "id": "52ec6b34",
      "execution_count": null,
      "outputs": []
    },
    {
      "cell_type": "markdown",
      "metadata": {
        "id": "08fe39ab"
      },
      "source": [
        "Pytorch is very similar to Numpy so it's quite easy to get accustomed to PyTorch. Let's look at how to perform a few basic operations in PyTorch and how they are similar to Numpy. "
      ],
      "id": "08fe39ab"
    },
    {
      "cell_type": "code",
      "metadata": {
        "colab": {
          "base_uri": "https://localhost:8080/"
        },
        "id": "fd353c77",
        "outputId": "a2e0be2c-6d21-4d5c-d916-abd0bd512a38"
      },
      "source": [
        "# Initializing a 3x3 array of ones \n",
        "a_np = np.ones((3, 3)) \n",
        "a_pt = torch.ones((3, 3))\n",
        "\n",
        "print(a_np)\n",
        "print(a_pt)\n",
        "\n",
        "# Looking up dimensions of the array \n",
        "print(a_np.shape) \n",
        "print(a_pt.shape)"
      ],
      "id": "fd353c77",
      "execution_count": null,
      "outputs": [
        {
          "output_type": "stream",
          "text": [
            "[[1. 1. 1.]\n",
            " [1. 1. 1.]\n",
            " [1. 1. 1.]]\n",
            "tensor([[1., 1., 1.],\n",
            "        [1., 1., 1.],\n",
            "        [1., 1., 1.]])\n",
            "(3, 3)\n",
            "torch.Size([3, 3])\n"
          ],
          "name": "stdout"
        }
      ]
    },
    {
      "cell_type": "markdown",
      "metadata": {
        "id": "0fb8196c"
      },
      "source": [
        "We can see that the output produced by Torch functions is of the data type - \"Torch.tensor\". Torch tensors are just multi-dimensional matrices. Note that, each tensor array can contain elements of a single data type only (For example - int32, float32 etc). The main difference between PyTorch Tensors and Numpy Arrays is that pytorch tensors can be moved to the GPU for training - this significantly speeds up the computation \n",
        "\n",
        "**Note:** For the purpose of this assignment, we will only be using PyTorch CPU to ensure compatibility with everyone's system but in practice you should always use the GPU version if you have GPU access   "
      ],
      "id": "0fb8196c"
    },
    {
      "cell_type": "code",
      "metadata": {
        "colab": {
          "base_uri": "https://localhost:8080/"
        },
        "id": "6ac2c058",
        "outputId": "6ba5b63b-e28a-454f-a256-136b5c1d5a31"
      },
      "source": [
        "# Converting data to tensors \n",
        "\n",
        "# Lists can be easily converted to PyTorch tensors \n",
        "d = [[1, 2, 3], [4, 5, 6]] \n",
        "d_pt = torch.tensor(d)\n",
        "print(d_pt)\n",
        "\n",
        "# Numpy arrays can also be easily converted to Torch Tensors \n",
        "temp_arr = np.random.rand(3, 5)\n",
        "print(\"\\nOriginal Numpy array: \")\n",
        "print(temp_arr)\n",
        "# Use from_numpy to convert numpy to temp_arr \n",
        "temp_arr_pt = torch.from_numpy(temp_arr)\n",
        "print(\"\\nConverted to Torch Tensor\")\n",
        "print(temp_arr_pt)\n",
        "\n",
        "# It's just as simple to convert a tensor back to numpy array \n",
        "temp_arr = temp_arr_pt.numpy()\n",
        "print(\"\\nBack to Numpy array\")\n",
        "print(temp_arr)\n",
        "\n",
        "# To concat multiple arrays together, we can use torch.concat \n",
        "print(\"\\nConcat arrays\")\n",
        "concat_arr = torch.cat((temp_arr_pt, a_pt), dim=1)\n",
        "print(concat_arr.shape)\n",
        "print(concat_arr)"
      ],
      "id": "6ac2c058",
      "execution_count": null,
      "outputs": [
        {
          "output_type": "stream",
          "text": [
            "tensor([[1, 2, 3],\n",
            "        [4, 5, 6]])\n",
            "\n",
            "Original Numpy array: \n",
            "[[0.45393313 0.70713247 0.76058838 0.79434683 0.37682766]\n",
            " [0.65451543 0.38481734 0.68898705 0.88760831 0.76782647]\n",
            " [0.65532186 0.94943419 0.68400074 0.5743054  0.67706964]]\n",
            "\n",
            "Converted to Torch Tensor\n",
            "tensor([[0.4539, 0.7071, 0.7606, 0.7943, 0.3768],\n",
            "        [0.6545, 0.3848, 0.6890, 0.8876, 0.7678],\n",
            "        [0.6553, 0.9494, 0.6840, 0.5743, 0.6771]], dtype=torch.float64)\n",
            "\n",
            "Back to Numpy array\n",
            "[[0.45393313 0.70713247 0.76058838 0.79434683 0.37682766]\n",
            " [0.65451543 0.38481734 0.68898705 0.88760831 0.76782647]\n",
            " [0.65532186 0.94943419 0.68400074 0.5743054  0.67706964]]\n",
            "\n",
            "Concat arrays\n",
            "torch.Size([3, 8])\n",
            "tensor([[0.4539, 0.7071, 0.7606, 0.7943, 0.3768, 1.0000, 1.0000, 1.0000],\n",
            "        [0.6545, 0.3848, 0.6890, 0.8876, 0.7678, 1.0000, 1.0000, 1.0000],\n",
            "        [0.6553, 0.9494, 0.6840, 0.5743, 0.6771, 1.0000, 1.0000, 1.0000]],\n",
            "       dtype=torch.float64)\n"
          ],
          "name": "stdout"
        }
      ]
    },
    {
      "cell_type": "markdown",
      "metadata": {
        "id": "03d295bc"
      },
      "source": [
        "<hr>\n",
        "\n",
        "##  Activity 2 - Predicting earthquake arrival time based on station location and earthquake location "
      ],
      "id": "03d295bc"
    },
    {
      "cell_type": "markdown",
      "metadata": {
        "id": "64a988d5"
      },
      "source": [
        "In this activity, we will be developing a neural network which learns a non-linear function to predict earhtquake arrival times. We will be using the example from Unit 7 - Earthquake Location (Section 1). <br> \n",
        "\n"
      ],
      "id": "64a988d5"
    },
    {
      "cell_type": "markdown",
      "metadata": {
        "id": "53e5b07f"
      },
      "source": [
        "#### Credits to Jonathan Smith for the example and for the synthetic data generation code"
      ],
      "id": "53e5b07f"
    },
    {
      "cell_type": "markdown",
      "metadata": {
        "id": "8df102f8"
      },
      "source": [
        "To recap, the predicted arrival time was defined as follows: \n",
        "\n",
        "$t_p^i = T^i(x_i,y_i,z_i,x_s,y_s,z_s, V_H)$    \n",
        "\n",
        "where $\\vec{X}_i=[x_i,y_i,z_i]$ is the station location for station $i$, $\\vec{X}_s=[x_s,y_s,z_s]$ the earthquake location, $T$ the travel-time function between the earthquake location and station location dependent on the subsurface velocity structure $V_H$,"
      ],
      "id": "8df102f8"
    },
    {
      "cell_type": "markdown",
      "metadata": {
        "id": "e6b55cae"
      },
      "source": [
        "Then the misfit function (loss function) was defined as follows: \n",
        "\n",
        "$ r = \\sum_{i=1}^n |t_o^i - t_p^i|$\n",
        "\n",
        "where $r$ in this case represents the L1-norm, $n$ represents the total number of station locations, $t_o^i$ the observed arrival time at station location $i$, and $t_p^i$ the predicted arrival time at station location $i$ given in the equation above. "
      ],
      "id": "e6b55cae"
    },
    {
      "cell_type": "markdown",
      "metadata": {
        "id": "c21cd117"
      },
      "source": [
        "Then, the observed time values were calculated using the following homogeneous velocity model:  \n",
        "\n",
        "$T_{V_H}^i = \\frac{\\sqrt{\\left( \\vec{X_i}  - \\vec{X_s}  \\right)^2}}{V_H}$\n",
        "\n",
        "where $T_V^i$ represents the travel-time for station $i$ dependent on velocity structure $V_H$. Even for this simple case notice the non-linear nature in $T_V^i$ dependent on the source location."
      ],
      "id": "c21cd117"
    },
    {
      "cell_type": "markdown",
      "metadata": {
        "id": "63f513b3"
      },
      "source": [
        "Now, in this activity, we want the neural network to *approximately* learn this non-linear function (homogeneous velocity model). \n",
        "\n",
        "Let's see how to go about doing that! "
      ],
      "id": "63f513b3"
    },
    {
      "cell_type": "markdown",
      "metadata": {
        "id": "27440408"
      },
      "source": [
        "From the lecture slides, remember the steps in a Machine Learning workflow: \n",
        "\n",
        "\n",
        "1. Gather data X, labels Y, define a model M(W) and loss function L(X, Y; W) \n",
        "2. Initialize model parameters W \n",
        "3. Calculate the loss L w.r.t those parameters \n",
        "4. Update the parameters such that loss L is reduced \n",
        "5. Keep doing this until convergence  "
      ],
      "id": "27440408"
    },
    {
      "cell_type": "markdown",
      "metadata": {
        "id": "328d0005"
      },
      "source": [
        "### Step 1: Gather data X, labels Y, define a model M(W) and loss function L(X, Y; W)\n",
        "\n"
      ],
      "id": "328d0005"
    },
    {
      "cell_type": "markdown",
      "metadata": {
        "id": "8a16788f"
      },
      "source": [
        "\n",
        "* So, here the data X is the synthetic data which we generate in the next cell (Xc and Xs) \n",
        "* The labels Y will be the observed arrival times (to) which are calculated using the homogeneous velocity model "
      ],
      "id": "8a16788f"
    },
    {
      "cell_type": "code",
      "metadata": {
        "id": "86c971b3"
      },
      "source": [
        "# ---- Defining the domain of interest. ----/\n",
        "Xmin,Xmax,Zmin,Zmax = 0,100,-2,10\n",
        "# X representing the horizontal distance in km\n",
        "# Z representing the depth positive downwards in km\n",
        "\n",
        "# ---- Seismic Station Locations ----\n",
        "n                       = 2000   # Number of seismic stations\n",
        "\n",
        "\n",
        "# The data X \n",
        "Xc      = np.zeros((n,2));\n",
        "Xc[:,0] = np.random.uniform(low=Xmin, high=Xmax, size=(n))\n",
        "Xc[:,1] = 0  # Setting stations at surface \n",
        "\n",
        "# --- Defining a random source location\n",
        "Xs =  [np.random.uniform(low=Xmin, high=Xmax),\n",
        "       np.random.uniform(low=0, high=Zmax)]"
      ],
      "id": "86c971b3",
      "execution_count": null,
      "outputs": []
    },
    {
      "cell_type": "code",
      "metadata": {
        "colab": {
          "base_uri": "https://localhost:8080/"
        },
        "id": "b64e9d5a",
        "outputId": "19cd0cf0-36ff-47b8-fb25-ee47982459e4"
      },
      "source": [
        "# --- Determining the observed travel-times for a single-phase ---\n",
        "Vh = 3.1 #km/s\n",
        "\n",
        "# The labels Y \n",
        "# Determining the observational Travel-Times assuming origin time t0=0.0\n",
        "to = np.sqrt(np.sum(np.square(Xc - Xs),axis=1))/Vh\n",
        "\n",
        "print(to.shape)"
      ],
      "id": "b64e9d5a",
      "execution_count": null,
      "outputs": [
        {
          "output_type": "stream",
          "text": [
            "(2000,)\n"
          ],
          "name": "stdout"
        }
      ]
    },
    {
      "cell_type": "markdown",
      "metadata": {
        "id": "c1d7fa69"
      },
      "source": [
        "Now, using the functions we learned in activity 1, we convert the data to torch tensors \n"
      ],
      "id": "c1d7fa69"
    },
    {
      "cell_type": "code",
      "metadata": {
        "colab": {
          "base_uri": "https://localhost:8080/"
        },
        "id": "cfb6bf45",
        "outputId": "7d66a1f3-1a44-44a2-aa37-9b55a0a1f72b"
      },
      "source": [
        "# Convert to tensors \n",
        "Xc_t = torch.from_numpy(Xc)\n",
        "Xs_t = torch.tensor(n*[Xs])\n",
        "\n",
        "\"\"\"\n",
        "Note, how I am converting y and the data variable to .float().\n",
        "A PyTorch model expects the input data to be in float32 by default. A numpy array is float64 (double) by default. \n",
        "Hence, always remember to apply the proper conversions beforehand! \n",
        "\"\"\"  \n",
        "\n",
        "Y = torch.from_numpy(to).reshape(-1, 1).float()\n",
        "\n",
        "print(Xc_t.shape, Xs_t.shape, Y.shape)\n",
        "\n",
        "# Concatenate them together \n",
        "X = torch.cat((Xc_t, Xs_t), dim=1).float()\n",
        "print(X.shape)"
      ],
      "id": "cfb6bf45",
      "execution_count": null,
      "outputs": [
        {
          "output_type": "stream",
          "text": [
            "torch.Size([2000, 2]) torch.Size([2000, 2]) torch.Size([2000, 1])\n",
            "torch.Size([2000, 4])\n"
          ],
          "name": "stdout"
        }
      ]
    },
    {
      "cell_type": "markdown",
      "metadata": {
        "id": "92ee53cf"
      },
      "source": [
        "Next, we define our model. \n",
        "\n",
        "* Models in PyTorch can be defined as classes in Python \n",
        "* We need to inherit the torch.nn.Module (include it in the class definition; eg - class FCN(**torch.nn.Module**) \n",
        "* Next, the model structure is defined in the def __init__ function. A simple fully connected linear layer can be defined using the nn.Linear function. The first value is the incoming features (4) and the second value is the outgoing features (8). \n",
        "* Every PyTorch class needs to have a forward function - this is equivalent to the forward pass of the model. The different components which we defined in the model structure (init function) are used in this forward function. Also, note that we are passing the output of each component through non-linear functions wherever required (Ex - F.Relu(self.fc1(x)))\n"
      ],
      "id": "92ee53cf"
    },
    {
      "cell_type": "markdown",
      "metadata": {
        "id": "29e72350"
      },
      "source": [
        "So, a model defined below would look as follows: "
      ],
      "id": "29e72350"
    },
    {
      "cell_type": "markdown",
      "metadata": {
        "id": "6ffacb06"
      },
      "source": [
        "<img src=\"https://i.imgur.com/IVl1Toz.png\" width=\"450\" height=\"650\" />"
      ],
      "id": "6ffacb06"
    },
    {
      "cell_type": "markdown",
      "metadata": {
        "id": "e2be9a0e"
      },
      "source": [
        "Here the four input features are the 2d co-ordinates for a station and the 2d co-ordinates of the earthquake  "
      ],
      "id": "e2be9a0e"
    },
    {
      "cell_type": "markdown",
      "metadata": {
        "id": "a929055f"
      },
      "source": [
        "The nn.Linear function in more details: https://pytorch.org/docs/stable/generated/torch.nn.Linear.html\n",
        "\n",
        "Just like nn.linear, there are a host of other functions inside the torch.nn module: https://pytorch.org/docs/stable/nn.html\n",
        "\n",
        "So, while the math may seem intimidating, it's pretty easy to build these models in practice using these functions! "
      ],
      "id": "a929055f"
    },
    {
      "cell_type": "code",
      "metadata": {
        "id": "f67f475e"
      },
      "source": [
        "class FCN(torch.nn.Module): \n",
        "    def __init__(self):\n",
        "        super(FCN, self).__init__()\n",
        "        \n",
        "        self.fc1 = nn.Linear(4, 8)\n",
        "        self.fc2 = nn.Linear(8, 1)\n",
        "    \n",
        "    def forward(self, x): \n",
        "        x = F.relu(self.fc1(x))\n",
        "        x = self.fc2(x)\n",
        "        \n",
        "        return x \n"
      ],
      "id": "f67f475e",
      "execution_count": null,
      "outputs": []
    },
    {
      "cell_type": "markdown",
      "metadata": {
        "id": "4fed345b"
      },
      "source": [
        "Next, we can define our loss (misfit) function "
      ],
      "id": "4fed345b"
    },
    {
      "cell_type": "code",
      "metadata": {
        "id": "11a2de61"
      },
      "source": [
        "loss_fn = nn.L1Loss(reduction='mean')"
      ],
      "id": "11a2de61",
      "execution_count": null,
      "outputs": []
    },
    {
      "cell_type": "markdown",
      "metadata": {
        "id": "56d145f9"
      },
      "source": [
        "### 2. Initialize model parameters W "
      ],
      "id": "56d145f9"
    },
    {
      "cell_type": "code",
      "metadata": {
        "id": "319e5481"
      },
      "source": [
        "\n",
        "# The model parameters get initialized by creating an instance of the class \n",
        "model = FCN()\n",
        "\n",
        "# Learning rate controls the rate of learning (how much should we react to the gradient signal)\n",
        "learning_rate = 1e-4\n",
        "\n",
        "# Optimizers basically optimize the gradient descent learning process. \n",
        "# One of the most widely used optimizer is Adam's Optimizer\n",
        "optimizer = torch.optim.Adam(model.parameters(), lr=learning_rate)\n"
      ],
      "id": "319e5481",
      "execution_count": null,
      "outputs": []
    },
    {
      "cell_type": "markdown",
      "metadata": {
        "id": "94e7b374"
      },
      "source": [
        "**Bonus:** For those interested in further reading on optimizers, here's a really nice blog post (credits to Sebastian Ruder) <br>\n",
        "https://ruder.io/optimizing-gradient-descent/"
      ],
      "id": "94e7b374"
    },
    {
      "cell_type": "markdown",
      "metadata": {
        "id": "1ccb145d"
      },
      "source": [
        "### 3. Calculate the loss L w.r.t those parameters \n",
        "### 4. Update the parameters such that loss L is reduced \n",
        "### 5. Keep doing this until convergence  "
      ],
      "id": "1ccb145d"
    },
    {
      "cell_type": "code",
      "metadata": {
        "colab": {
          "base_uri": "https://localhost:8080/"
        },
        "id": "7e934a84",
        "outputId": "593b8a60-fbbd-42fa-bb25-cd7d4ff793f8"
      },
      "source": [
        "# Step 3,4 and 5 are done by this simple piece of code! \n",
        "\n",
        "# The number of epochs determine how many times do we want to go over the entire data \n",
        "# Learning stops once the maximum number of epochs are reached \n",
        "epochs = 10000 \n",
        "\n",
        "for i in range(epochs): \n",
        "    # Get output from the model (predicted arrival times for all stations)\n",
        "    y_pred = model(X) \n",
        "    \n",
        "    # This is step 3 - Calculating the loss \n",
        "    loss = loss_fn(y_pred, Y)\n",
        "        \n",
        "    if i % 500 == 0: \n",
        "        print(\"Loss\", loss.item())\n",
        "        \n",
        "    \n",
        "    # The optimizer by default accumulates gradient. \n",
        "    # So remember to call optimizer.zero_grad() as we only want to run the backward pass w.r.t the current gradient signal \n",
        "    \n",
        "    optimizer.zero_grad()\n",
        "    # loss.backward() will calculate the gradient w.r.t all parameters \n",
        "    loss.backward()\n",
        "    # Optimizer.step() will perform the actual parameter update \n",
        "    optimizer.step()\n"
      ],
      "id": "7e934a84",
      "execution_count": null,
      "outputs": [
        {
          "output_type": "stream",
          "text": [
            "Loss 18.146825790405273\n",
            "Loss 11.354693412780762\n",
            "Loss 6.230416774749756\n",
            "Loss 4.98157262802124\n",
            "Loss 4.371788501739502\n",
            "Loss 3.9520697593688965\n",
            "Loss 3.647789239883423\n",
            "Loss 3.406771659851074\n",
            "Loss 3.2285079956054688\n",
            "Loss 3.124546766281128\n",
            "Loss 3.073502779006958\n",
            "Loss 3.0539042949676514\n",
            "Loss 3.0500457286834717\n",
            "Loss 3.049720525741577\n",
            "Loss 3.0496826171875\n",
            "Loss 3.0496816635131836\n",
            "Loss 3.0496819019317627\n",
            "Loss 3.0496819019317627\n",
            "Loss 3.0496819019317627\n",
            "Loss 3.0496819019317627\n"
          ],
          "name": "stdout"
        }
      ]
    },
    {
      "cell_type": "code",
      "metadata": {
        "colab": {
          "base_uri": "https://localhost:8080/"
        },
        "id": "ff5774b8",
        "outputId": "2f35e0c4-1e7d-405d-b0ec-c6051ff93b2b"
      },
      "source": [
        "\n",
        "print(\"Actual values: {}\".format(Y[:100].squeeze()))\n",
        "print(\"Predicted values: {}\".format(y_pred[:100].squeeze()))"
      ],
      "id": "ff5774b8",
      "execution_count": null,
      "outputs": [
        {
          "output_type": "stream",
          "text": [
            "Actual values: tensor([10.8466, 13.9985,  4.2524, 15.7978, 16.3081, 11.2058,  4.9267, 18.5578,\n",
            "         6.1311, 12.1223,  6.8334, 15.3217, 19.5420,  3.7206, 15.9161, 19.4263,\n",
            "         7.5891,  3.6328, 17.0436, 11.8203,  6.5659,  7.9317, 19.6974,  9.0222,\n",
            "         3.0883,  5.3998,  3.0188,  9.0276, 11.4067,  8.5091,  3.4603,  8.1252,\n",
            "        13.7174, 13.6040,  3.4540, 19.2609,  7.5125, 13.0659, 11.9469,  8.1434,\n",
            "        14.0719,  7.6918,  4.8088, 10.6165,  8.2995,  6.6765, 19.5704, 10.5863,\n",
            "        10.9640,  6.6712, 17.1200, 14.9236, 13.8766, 13.7837, 11.4134,  4.9491,\n",
            "         3.7634, 18.7794,  3.2029,  3.4683,  9.6123, 19.2952,  8.4415,  4.6243,\n",
            "         3.1106, 14.2443, 18.1122,  3.9030,  5.7641,  3.4778, 18.9811,  3.3243,\n",
            "        19.5051,  7.2976, 20.7621, 11.8057, 10.0938,  8.2741,  7.0560, 11.1899,\n",
            "        10.2649,  4.4432,  7.6449, 14.6510,  9.4890,  4.2536, 18.0720, 18.5403,\n",
            "         7.1798,  6.9153,  3.8503, 10.9233,  8.5728,  3.0896, 10.4988,  4.8925,\n",
            "        17.4664,  8.6551,  4.9374, 16.7773])\n",
            "Predicted values: tensor([ 0.7996, 13.4272,  4.6889, 14.3904, 14.6627,  0.6038,  8.3043, 15.8602,\n",
            "         9.0601, 12.4163,  9.4762, 14.1360, 16.3826,  5.1179, 14.4536, 16.3213,\n",
            "         2.6104,  5.1983, 15.0548, 12.2527,  9.3192,  2.4155, 16.4651,  1.8037,\n",
            "         5.9083,  3.9128,  6.3508,  1.8007,  0.4946,  2.0901,  7.1525,  2.3061,\n",
            "        13.2762, 13.2153,  7.1458, 16.2335,  9.8686, 12.9257,  0.2015, 10.2270,\n",
            "        13.4666,  9.9710,  4.2972, 11.5975,  2.2078,  9.3843, 16.3977,  0.9417,\n",
            "        11.7873,  9.3811, 15.0955, 13.9230, 13.3618, 13.3119,  0.4909,  4.2037,\n",
            "         7.4428, 15.9779,  5.6933,  7.1610,  1.4768, 16.2517, 10.3947,  8.0998,\n",
            "         5.8582, 13.5591, 15.6233,  7.5613,  8.8369,  7.1710, 16.0850,  5.5263,\n",
            "        16.3631,  2.7775, 17.0295,  0.2780, 11.3111,  2.2221,  9.6057, 11.9103,\n",
            "        11.4050,  7.9727,  9.9443, 13.7771,  1.5449,  4.6880, 15.6020, 15.8509,\n",
            "         9.6773,  9.5240,  5.0054,  0.7577, 10.4683,  6.6175,  0.9896,  4.2412,\n",
            "        15.2798, 10.5144,  8.3114, 14.9129], grad_fn=<SqueezeBackward0>)\n"
          ],
          "name": "stdout"
        }
      ]
    },
    {
      "cell_type": "markdown",
      "metadata": {
        "id": "7a3f4a0e"
      },
      "source": [
        "So, we can see from the results printed above that our simple neural network was able to approximate the arrival times pretty well! \n",
        "\n"
      ],
      "id": "7a3f4a0e"
    },
    {
      "cell_type": "markdown",
      "metadata": {
        "id": "45e3d77e"
      },
      "source": [
        "### Bonus Activity\n",
        "\n",
        "Try changing the value of learning rate in the initialize model parameters step. What do you observe for the following scenarios? \n",
        "\n",
        "* What happens to the loss when you making the learning rate progressively larger (1e-2, 1e-1, 0.2, 0.3 etc) \n",
        "\n",
        "* What happens to the loss when you use a smaller learning rate? (1e-5, 1e-6 etc) "
      ],
      "id": "45e3d77e"
    },
    {
      "cell_type": "markdown",
      "metadata": {
        "id": "80d4c9e9"
      },
      "source": [
        "<hr> \n",
        "\n",
        "## Activity 3 - Classifying Earthquake and Noise Signals "
      ],
      "id": "80d4c9e9"
    },
    {
      "cell_type": "markdown",
      "metadata": {
        "id": "46b30158"
      },
      "source": [
        "In this activity, we will be building a CNN classifier to classify between Earthquake Signals and Noise Signals (background noise). We will be using data from [Earthquake Detective](https://www.zooniverse.org/projects/vivitang/earthquake-detective). \n",
        "\n",
        "We will be attempting to classify between Earthquake and Noise using images alone. This works in this case as the data is clean and most of the earthquake images have clear distinguishable characteristics from noise images. "
      ],
      "id": "46b30158"
    },
    {
      "cell_type": "code",
      "metadata": {
        "id": "f0761b4f"
      },
      "source": [
        "X_img = pickle.load(urlopen(\"https://www.dropbox.com/s/s3jy5cc6wcd5i9c/X_img?dl=1\"))\n",
        "Y = pickle.load(urlopen(\"https://www.dropbox.com/s/zvzemxjfodggbwq/Y?dl=1\"))"
      ],
      "id": "f0761b4f",
      "execution_count": null,
      "outputs": []
    },
    {
      "cell_type": "code",
      "metadata": {
        "colab": {
          "base_uri": "https://localhost:8080/"
        },
        "id": "8ba199f1",
        "outputId": "e1f339bc-bdc1-488d-9afa-b0b509d8382e"
      },
      "source": [
        "# There are 820 data samples \n",
        "print(len(X_img), len(Y))\n",
        "\n",
        "print(X_img[0][0].shape)"
      ],
      "id": "8ba199f1",
      "execution_count": null,
      "outputs": [
        {
          "output_type": "stream",
          "text": [
            "820 820\n",
            "(135, 334)\n"
          ],
          "name": "stdout"
        }
      ]
    },
    {
      "cell_type": "markdown",
      "metadata": {
        "id": "65d5deed"
      },
      "source": [
        "Every sample is made of three grayscale images representing the Earthquake/Noise signal across three channels - BHZ, BHE, BHN\n",
        "\n",
        "Examples are shown below: "
      ],
      "id": "65d5deed"
    },
    {
      "cell_type": "code",
      "metadata": {
        "colab": {
          "base_uri": "https://localhost:8080/",
          "height": 269
        },
        "id": "cc1b727f",
        "outputId": "e4afb267-f03a-4671-fa56-b7319337fd81"
      },
      "source": [
        "# Example of an Earthquake across three channels (BHZ, BHE, BHN)\n",
        "\n",
        "fig, axes = plt.subplots(3)\n",
        "\n",
        "axes[0].imshow(X_img[50][0], cmap='gray')\n",
        "axes[1].imshow(X_img[50][1], cmap='gray')\n",
        "axes[2].imshow(X_img[50][2], cmap='gray')\n",
        "\n",
        "plt.show()\n"
      ],
      "id": "cc1b727f",
      "execution_count": null,
      "outputs": [
        {
          "output_type": "display_data",
          "data": {
            "image/png": "[encoded data removed]",
            "text/plain": [
              "<Figure size 432x288 with 3 Axes>"
            ]
          },
          "metadata": {
            "tags": [],
            "needs_background": "light"
          }
        }
      ]
    },
    {
      "cell_type": "code",
      "metadata": {
        "colab": {
          "base_uri": "https://localhost:8080/",
          "height": 269
        },
        "id": "e538cce8",
        "outputId": "d13a0267-a3ec-4af4-cf94-cd038e0dca15"
      },
      "source": [
        "# Example of noise \n",
        "\n",
        "fig, axes = plt.subplots(3)\n",
        "\n",
        "axes[0].imshow(X_img[38][0], cmap='gray')\n",
        "axes[1].imshow(X_img[38][1], cmap='gray')\n",
        "axes[2].imshow(X_img[38][2], cmap='gray')\n",
        "\n",
        "plt.show()"
      ],
      "id": "e538cce8",
      "execution_count": null,
      "outputs": [
        {
          "output_type": "display_data",
          "data": {
            "image/png": "[encoded data removed]",
            "text/plain": [
              "<Figure size 432x288 with 3 Axes>"
            ]
          },
          "metadata": {
            "tags": [],
            "needs_background": "light"
          }
        }
      ]
    },
    {
      "cell_type": "markdown",
      "metadata": {
        "id": "4f0e7575"
      },
      "source": [
        "Remember from the slides that we should divide our data into train and test sets. In the code cell below, we randomly choose 80% of the data samples for training and pass the remaining 20% for testing. "
      ],
      "id": "4f0e7575"
    },
    {
      "cell_type": "code",
      "metadata": {
        "colab": {
          "base_uri": "https://localhost:8080/"
        },
        "id": "0f1b452a",
        "outputId": "04690c82-11f3-4358-a0f0-7b1b30e3e57c"
      },
      "source": [
        "X_img = np.array(X_img)\n",
        "Y = np.array(Y)\n",
        "\n",
        "X = torch.from_numpy(X_img).float()\n",
        "Y = torch.from_numpy(Y).long()\n",
        "\n",
        "n = X_img.shape[0]\n",
        "\n",
        "# Shuffle the values and divide into train and test \n",
        "permut = np.random.permutation(n)\n",
        "\n",
        "train_percent = 0.8 \n",
        "train_samples = int(train_percent * n)\n",
        "test_samples = n - train_samples \n",
        "print(\"Number of train samples {} and Number of test samples {}\".format(train_samples, test_samples))\n",
        "X_train, Y_train = X[permut[:train_samples], ], Y[permut[:train_samples]]\n",
        "X_test, Y_test = X[permut[train_samples:], ], Y[permut[train_samples: ]]\n",
        "print(X_train.shape, Y_train.shape, X_test.shape, Y_test.shape)"
      ],
      "id": "0f1b452a",
      "execution_count": null,
      "outputs": [
        {
          "output_type": "stream",
          "text": [
            "Number of train samples 656 and Number of test samples 164\n",
            "torch.Size([656, 3, 135, 334]) torch.Size([656]) torch.Size([164, 3, 135, 334]) torch.Size([164])\n"
          ],
          "name": "stdout"
        }
      ]
    },
    {
      "cell_type": "markdown",
      "metadata": {
        "id": "4ebb8951"
      },
      "source": [
        "Now, we follow the same steps as the previous activity to build and train our model \n",
        "\n",
        "Remember from the lecture slides, the model structure for a CNN looks like follows: \n",
        "\n",
        "<img src=\"https://i.imgur.com/AYASYvA.png\" width=600 height=300>"
      ],
      "id": "4ebb8951"
    },
    {
      "cell_type": "code",
      "metadata": {
        "id": "c4d24191"
      },
      "source": [
        "class CNN(nn.Module): \n",
        "    def __init__(self):\n",
        "        super(CNN, self).__init__()\n",
        "\n",
        "        self.conv1 = nn.Conv2d(3, 8, kernel_size=(5, 5), stride=2)\n",
        "        self.pool1 = nn.MaxPool2d(kernel_size=3)\n",
        "        self.conv2 = nn.Conv2d(8, 32, kernel_size=(3, 3), stride=1)\n",
        "        self.pool2 = nn.MaxPool2d(kernel_size=3)\n",
        "        self.fc1 = nn.Linear(3264, 512) \n",
        "        self.fc2 = nn.Linear(512, 2)\n",
        "    \n",
        "    def forward(self, x): \n",
        "        x = F.relu(self.conv1(x))\n",
        "        x = self.pool1(x)\n",
        "        x = F.relu(self.conv2(x))\n",
        "        x = self.pool2(x)\n",
        "        x = torch.flatten(x, start_dim=1)\n",
        "        # print(\"Shape after flattening\", x.shape)\n",
        "        \n",
        "        x = F.relu(self.fc1(x))\n",
        "        x = F.softmax(self.fc2(x), dim=1)\n",
        "        \n",
        "        return x \n",
        "        \n",
        "        \n",
        "\n",
        "        \n"
      ],
      "id": "c4d24191",
      "execution_count": null,
      "outputs": []
    },
    {
      "cell_type": "markdown",
      "metadata": {
        "id": "404324fe"
      },
      "source": [
        "It's important to note that there is no fixed way to decide the values used while defining a model. For example, in the code cell above in self.conv1, we took the 3 grayscale images and outputted 8 filters (channels) with kernel size = 5 and stride 2. But one could have also outputted some other number of channels like 12 or 16 and used a different kernel size. **It's mostly trial and error**. A good strategy is to look up how other researchers have built existing models on similar kind of data and then try to work from there.  "
      ],
      "id": "404324fe"
    },
    {
      "cell_type": "markdown",
      "metadata": {
        "id": "3087d028"
      },
      "source": [
        "\n",
        "### Important trick to determine to determine the number of features going into a fully connected network. \n",
        "\n",
        "\n",
        "In the model which we defined in the previous cell, you can see that I have put the number of features going into the first fully connected layer (self.fc1) as 3264. This number comes after flattening the features received from the previous layer. But how to easily determine this number? \n",
        "\n",
        "So, the long way of calculating this number is to follow the mathematical formula shown in the PyTorch documentation for each CNN module. However, an easier way is to just print the shape of the data after flattening it out. "
      ],
      "id": "3087d028"
    },
    {
      "cell_type": "markdown",
      "metadata": {
        "id": "cf90f876"
      },
      "source": [
        "We can quickly test this by doing a single pass of the model with our data and print the shape after flattening. \n",
        "So, for example, if you uncomment the print statement in the previous cell and run the following cell you get the number of features after flattening. "
      ],
      "id": "cf90f876"
    },
    {
      "cell_type": "code",
      "metadata": {
        "colab": {
          "base_uri": "https://localhost:8080/"
        },
        "id": "d5fde841",
        "outputId": "9a66740c-ce94-4fb0-cc51-b635bafd70e5"
      },
      "source": [
        "model = CNN()\n",
        "# Run a single pass of the model \n",
        "model(X) \n",
        "\n",
        "# The print statement should give [820, 3264] \n",
        "# Now, that we know the flattened features = 3264, we can set nn.Linear(3264, 512)\n",
        "\n",
        "# Make sure to comment out the print statement again before moving forward to avoid unnnecessary prints in future cells "
      ],
      "id": "d5fde841",
      "execution_count": null,
      "outputs": [
        {
          "output_type": "stream",
          "text": [
            "/usr/local/lib/python3.7/dist-packages/torch/nn/functional.py:718: UserWarning: Named tensors and all their associated APIs are an experimental feature and subject to change. Please do not use them for anything important until they are released as stable. (Triggered internally at  /pytorch/c10/core/TensorImpl.h:1156.)\n",
            "  return torch.max_pool2d(input, kernel_size, stride, padding, dilation, ceil_mode)\n"
          ],
          "name": "stderr"
        },
        {
          "output_type": "execute_result",
          "data": {
            "text/plain": [
              "tensor([[7.0882e-06, 9.9999e-01],\n",
              "        [2.6601e-06, 1.0000e+00],\n",
              "        [8.8412e-03, 9.9116e-01],\n",
              "        ...,\n",
              "        [5.3417e-04, 9.9947e-01],\n",
              "        [1.9914e-03, 9.9801e-01],\n",
              "        [9.2430e-06, 9.9999e-01]], grad_fn=<SoftmaxBackward>)"
            ]
          },
          "metadata": {
            "tags": []
          },
          "execution_count": 19
        }
      ]
    },
    {
      "cell_type": "code",
      "metadata": {
        "id": "e88ea7e0"
      },
      "source": [
        "model = CNN()\n",
        "# Cross entropy loss is commonly used for classification tasks: \n",
        "# Link: https://pytorch.org/docs/stable/generated/torch.nn.CrossEntropyLoss.html \n",
        "loss_fn = nn.CrossEntropyLoss()\n",
        "learning_rate = 1e-5\n",
        "optimizer = torch.optim.Adam(model.parameters(), lr=learning_rate)"
      ],
      "id": "e88ea7e0",
      "execution_count": null,
      "outputs": []
    },
    {
      "cell_type": "code",
      "metadata": {
        "colab": {
          "base_uri": "https://localhost:8080/"
        },
        "id": "12b3a08d",
        "outputId": "a03e2936-41f3-4989-fa2c-2fba4f6b4e5a"
      },
      "source": [
        "epochs = 50 \n",
        "\n",
        "for i in range(epochs): \n",
        "    y_pred = model(X_train) \n",
        "    \n",
        "    loss = loss_fn(y_pred, Y_train)\n",
        "    \n",
        "    \n",
        "    if i % 5 == 0: \n",
        "        print(\"Loss\", loss.item())\n",
        "        \n",
        "        _, predicted = torch.max(y_pred, 1)\n",
        "        correct_mat = (predicted == Y_train).squeeze()\n",
        "        correct_count = torch.sum(correct_mat).item()\n",
        "        print(\"Train Accuracy: {}\".format(correct_count/len(predicted)))\n",
        "        \n",
        "        with torch.no_grad(): \n",
        "            y_pred_test = model(X_test)\n",
        "            _, predicted = torch.max(y_pred_test, 1)\n",
        "            correct_mat = (predicted == Y_test).squeeze()\n",
        "            correct_count = torch.sum(correct_mat).item()\n",
        "            print(\"Test Accuracy: {}\".format(correct_count/len(predicted)))\n",
        "\n",
        "        \n",
        "    optimizer.zero_grad()\n",
        "    loss.backward()\n",
        "    optimizer.step()"
      ],
      "id": "12b3a08d",
      "execution_count": null,
      "outputs": [
        {
          "output_type": "stream",
          "text": [
            "Loss 0.8513271808624268\n",
            "Train Accuracy: 0.4725609756097561\n",
            "Test Accuracy: 0.5121951219512195\n",
            "Loss 0.8181731700897217\n",
            "Train Accuracy: 0.4893292682926829\n",
            "Test Accuracy: 0.5426829268292683\n",
            "Loss 0.6391071677207947\n",
            "Train Accuracy: 0.676829268292683\n",
            "Test Accuracy: 0.5975609756097561\n",
            "Loss 0.6416366100311279\n",
            "Train Accuracy: 0.6737804878048781\n",
            "Test Accuracy: 0.5975609756097561\n",
            "Loss 0.6151661276817322\n",
            "Train Accuracy: 0.7027439024390244\n",
            "Test Accuracy: 0.5914634146341463\n",
            "Loss 0.6130658984184265\n",
            "Train Accuracy: 0.7012195121951219\n",
            "Test Accuracy: 0.5792682926829268\n",
            "Loss 0.6094838380813599\n",
            "Train Accuracy: 0.7042682926829268\n",
            "Test Accuracy: 0.5853658536585366\n",
            "Loss 0.6039235591888428\n",
            "Train Accuracy: 0.7149390243902439\n",
            "Test Accuracy: 0.5853658536585366\n",
            "Loss 0.6008538603782654\n",
            "Train Accuracy: 0.7164634146341463\n",
            "Test Accuracy: 0.5792682926829268\n",
            "Loss 0.5991761088371277\n",
            "Train Accuracy: 0.7179878048780488\n",
            "Test Accuracy: 0.5853658536585366\n"
          ],
          "name": "stdout"
        }
      ]
    },
    {
      "cell_type": "markdown",
      "metadata": {
        "id": "97e6026b"
      },
      "source": [
        "<hr>"
      ],
      "id": "97e6026b"
    },
    {
      "cell_type": "markdown",
      "metadata": {
        "id": "f1814819"
      },
      "source": [
        "**Note:** As the model parameters are randomly initialized and as the dataset is randomly split between train and test, the accuracies will vary in different runs. In practice, this is fine as long as the variance is small over different runs of the model. "
      ],
      "id": "f1814819"
    },
    {
      "cell_type": "markdown",
      "metadata": {
        "id": "f6b38375"
      },
      "source": [
        "## Activity 4 (Bonus) - Classifiying between Earthquake and Noise signals directly using the signal data"
      ],
      "id": "f6b38375"
    },
    {
      "cell_type": "markdown",
      "metadata": {
        "id": "0113dd05"
      },
      "source": [
        "In this activity, we will be using data from the [Stanford Earthquake Dataset (STEAD)](https://github.com/smousavi05/STEAD). \n",
        "\n",
        "I have already processed and taken a subset of that dataset which contains 5000 noise signals and 5000 earthquake signals. \n",
        "\n",
        "**The task:** Just like activity 3, you have to build a CNN model and then train it. **But remember, now it's only 1D data (signal) so you would use 1D convolutions instead of 2D.**\n",
        "\n",
        "Solution will be provided separately later on. "
      ],
      "id": "0113dd05"
    },
    {
      "cell_type": "code",
      "metadata": {
        "id": "032630b0"
      },
      "source": [
        "# May take some time to download \n",
        "X_noise = pickle.load(urlopen(\"https://www.dropbox.com/s/pzlvpwfc3ext7ob/X_noise?dl=1\"))\n",
        "X_eq = pickle.load(urlopen(\"https://www.dropbox.com/s/h6fgk5mf1alie1u/X_Eq?dl=1\"))"
      ],
      "id": "032630b0",
      "execution_count": null,
      "outputs": []
    },
    {
      "cell_type": "code",
      "metadata": {
        "colab": {
          "base_uri": "https://localhost:8080/"
        },
        "id": "fd492c53",
        "outputId": "8b243275-2d0f-4152-c6c7-3295d2171ba0"
      },
      "source": [
        "X_noise = np.array(X_noise)\n",
        "X_eq = np.array(X_eq)\n",
        "\n",
        "# Create a label array, noise = 0, eq = 1\n",
        "Y_noise = np.zeros(X_noise.shape[0])\n",
        "Y_eq = np.ones(X_eq.shape[0])\n",
        "\n",
        "print(X_noise.shape, X_eq.shape, Y_noise.shape, Y_eq.shape)"
      ],
      "id": "fd492c53",
      "execution_count": null,
      "outputs": [
        {
          "output_type": "stream",
          "text": [
            "(5000, 6000, 3) (5000, 6000, 3) (5000,) (5000,)\n"
          ],
          "name": "stdout"
        }
      ]
    },
    {
      "cell_type": "code",
      "metadata": {
        "colab": {
          "base_uri": "https://localhost:8080/"
        },
        "id": "ffe3a2bc",
        "outputId": "6dd69f9c-8cf7-4482-e506-3b2bfc429915"
      },
      "source": [
        "# Convert to torch tensors and concat \n",
        "X_noise = torch.from_numpy(X_noise)\n",
        "X_eq = torch.from_numpy(X_eq)\n",
        "Y_noise = torch.from_numpy(Y_noise)\n",
        "Y_eq = torch.from_numpy(Y_eq)\n",
        "\n",
        "X = torch.cat((X_noise, X_eq), dim=0).float()\n",
        "Y = torch.cat((Y_noise, Y_eq), dim=0).long()\n",
        "\n",
        "# Pytorch models require input of the form -> Number of examples, Channels, features \n",
        "# So, swap the dimensions to make sure the input is in correct form \n",
        "X = torch.transpose(X, 1, 2)\n",
        "\n",
        "print(X.shape, Y.shape)\n"
      ],
      "id": "ffe3a2bc",
      "execution_count": null,
      "outputs": [
        {
          "output_type": "stream",
          "text": [
            "torch.Size([10000, 3, 6000]) torch.Size([10000])\n"
          ],
          "name": "stdout"
        }
      ]
    },
    {
      "cell_type": "code",
      "metadata": {
        "colab": {
          "base_uri": "https://localhost:8080/"
        },
        "id": "f1579e7d",
        "outputId": "c92ae596-3806-4bde-e73f-aa2b0ef0c259"
      },
      "source": [
        "# Shuffle the values and divide into train and test \n",
        "n = X.shape[0]\n",
        "permut = np.random.permutation(n)\n",
        "\n",
        "train_percent = 0.8 \n",
        "train_samples = int(train_percent * n)\n",
        "test_samples = n - train_samples \n",
        "print(\"Number of train samples {} and Number of test samples {}\".format(train_samples, test_samples))\n",
        "X_train, Y_train = X[permut[:train_samples], ], Y[permut[:train_samples]]\n",
        "X_test, Y_test = X[permut[train_samples:], ], Y[permut[train_samples: ]]\n",
        "print(X_train.shape, Y_train.shape, X_test.shape, Y_test.shape)"
      ],
      "id": "f1579e7d",
      "execution_count": null,
      "outputs": [
        {
          "output_type": "stream",
          "text": [
            "Number of train samples 8000 and Number of test samples 2000\n",
            "torch.Size([8000, 3, 6000]) torch.Size([8000]) torch.Size([2000, 3, 6000]) torch.Size([2000])\n"
          ],
          "name": "stdout"
        }
      ]
    },
    {
      "cell_type": "markdown",
      "metadata": {
        "id": "28e0ce4d"
      },
      "source": [
        "\n",
        "**Start your code from here onward**\n",
        "\n",
        "To do: \n",
        "\n",
        "1. Build a CNN class like in the previous activity \n",
        "2. Train the model and check the accuracy on the training and testing set \n",
        "\n",
        "Functions to refer to while building the CNN model: \n",
        "* Conv 1D: https://pytorch.org/docs/stable/generated/torch.nn.Conv1d.html\n",
        "* Max Pool 1D: https://pytorch.org/docs/stable/generated/torch.nn.MaxPool1d.html\n",
        "* NN Linear: https://pytorch.org/docs/stable/generated/torch.nn.Linear.html\n",
        "\n",
        "\n",
        "Additional notes: \n",
        "* Remember the model is 1D, so use a single integer for kernel_size instead of a 2D tuple which was used in the previous activity \n",
        "* Use the trick mentioned in the previous activity to determine the incoming number of features to a nn.Linear layer \n",
        "\n",
        "\n"
      ],
      "id": "28e0ce4d"
    },
    {
      "cell_type": "markdown",
      "metadata": {
        "id": "160e233c"
      },
      "source": [
        "## Solution "
      ],
      "id": "160e233c"
    },
    {
      "cell_type": "code",
      "metadata": {
        "id": "ee48e75b"
      },
      "source": [
        ""
      ],
      "id": "ee48e75b",
      "execution_count": null,
      "outputs": []
    },
    {
      "cell_type": "markdown",
      "metadata": {
        "id": "9ab2faf9"
      },
      "source": [
        "## Conclusion \n",
        "\n",
        "We learned the basics of neural networks in this tutorial. For further reading, I would recommend going through the different tutorials available on the PyTorch website: https://pytorch.org/tutorials/"
      ],
      "id": "9ab2faf9"
    }
  ]
}